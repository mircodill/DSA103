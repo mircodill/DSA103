{
 "cells": [
  {
   "cell_type": "markdown",
   "id": "b1d685d7",
   "metadata": {},
   "source": [
    "## Visualising SMILES strings using RDKit\n",
    "\n",
    "RDKit is a very powerful package for all sorts of data science tasks in the life sciences. One function is to draw the structure for a SMILES code, by converting it into a Mol object."
   ]
  },
  {
   "cell_type": "code",
   "execution_count": null,
   "id": "c6d94d55",
   "metadata": {},
   "outputs": [],
   "source": [
    "from rdkit import Chem\n",
    "from rdkit.Chem import Draw"
   ]
  },
  {
   "cell_type": "code",
   "execution_count": null,
   "id": "368d3ad0",
   "metadata": {},
   "outputs": [],
   "source": [
    "smiles = \"C1CCCCC1C#N\"\n",
    "\n",
    "mol_object = Chem.MolFromSmiles(smiles)"
   ]
  },
  {
   "cell_type": "code",
   "execution_count": null,
   "id": "9944d55f",
   "metadata": {},
   "outputs": [],
   "source": [
    "mol_object"
   ]
  },
  {
   "cell_type": "code",
   "execution_count": null,
   "id": "1590fb73",
   "metadata": {},
   "outputs": [],
   "source": [
    "type(mol_object)"
   ]
  },
  {
   "cell_type": "markdown",
   "id": "c4bdae30",
   "metadata": {},
   "source": [
    "The Mol object can be converted into a canonical Smiles using the MolToSmiles funcion."
   ]
  },
  {
   "cell_type": "code",
   "execution_count": null,
   "id": "07496e10",
   "metadata": {},
   "outputs": [],
   "source": [
    "canonicalsmiles = Chem.MolToSmiles(mol_object)\n",
    "canonicalsmiles"
   ]
  },
  {
   "cell_type": "markdown",
   "id": "ebaba47f",
   "metadata": {},
   "source": [
    "To create an image, use the MolToImage function provided in Chem.Draw."
   ]
  },
  {
   "cell_type": "code",
   "execution_count": null,
   "id": "032dd8f7",
   "metadata": {},
   "outputs": [],
   "source": [
    "img = Draw.MolToImage(mol_object)  # Creates an Image from the Mol object.\n",
    "img"
   ]
  },
  {
   "cell_type": "code",
   "execution_count": null,
   "id": "4f69b910",
   "metadata": {},
   "outputs": [],
   "source": [
    "img.save(\"molecule.png\")"
   ]
  },
  {
   "cell_type": "markdown",
   "id": "362c4731",
   "metadata": {},
   "source": [
    "## Multiple entries\n",
    "\n",
    "Try the function MolsToGridImages to create a grid image from a list of Mols objects (SMILES need to be converted first!) and a list of names as legend."
   ]
  },
  {
   "cell_type": "code",
   "execution_count": null,
   "id": "9918b8a8",
   "metadata": {},
   "outputs": [],
   "source": [
    "mols = []\n",
    "lst_smiles = [\"CCC\", \"COC\", \"CC(=O)O\"]\n",
    "names = [\"propane\", \"dimethyl ether\", \"acetic acid\"]\n"
   ]
  },
  {
   "cell_type": "code",
   "execution_count": null,
   "id": "ba6f9fc0",
   "metadata": {},
   "outputs": [],
   "source": [
    "grid = Draw.MolsToGridImage(mols, legends=names)\n",
    "grid"
   ]
  },
  {
   "cell_type": "code",
   "execution_count": null,
   "id": "cc878cab",
   "metadata": {},
   "outputs": [],
   "source": []
  }
 ],
 "metadata": {
  "kernelspec": {
   "display_name": "LifeScienceData",
   "language": "python",
   "name": "python3"
  },
  "language_info": {
   "codemirror_mode": {
    "name": "ipython",
    "version": 3
   },
   "file_extension": ".py",
   "mimetype": "text/x-python",
   "name": "python",
   "nbconvert_exporter": "python",
   "pygments_lexer": "ipython3",
   "version": "3.13.7"
  }
 },
 "nbformat": 4,
 "nbformat_minor": 5
}
