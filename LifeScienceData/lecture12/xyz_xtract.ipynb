{
 "cells": [
  {
   "cell_type": "markdown",
   "id": "b1d685d7",
   "metadata": {},
   "source": [
    "## Extracting distances from an xyz-file using RDKit\n",
    "\n",
    "RDKit can convert not only smiles but other file formats into a Mol-object. If 3D coordinates are read, e.g. from an .xyz file, the conformation can be decoded."
   ]
  },
  {
   "cell_type": "code",
   "execution_count": 1,
   "id": "c6d94d55",
   "metadata": {},
   "outputs": [],
   "source": [
    "from rdkit import Chem\n"
   ]
  },
  {
   "cell_type": "code",
   "execution_count": 2,
   "id": "368d3ad0",
   "metadata": {},
   "outputs": [],
   "source": [
    "mol = Chem.MolFromXYZFile(\"acetylchloride.xyz\")\n",
    "Chem.SanitizeMol(mol)\n",
    "conf = mol.GetConformer()"
   ]
  },
  {
   "cell_type": "code",
   "execution_count": 3,
   "id": "9944d55f",
   "metadata": {},
   "outputs": [
    {
     "data": {
      "text/plain": [
       "<rdkit.Chem.rdchem.Conformer at 0x26e2e817c30>"
      ]
     },
     "execution_count": 3,
     "metadata": {},
     "output_type": "execute_result"
    }
   ],
   "source": [
    "conf"
   ]
  },
  {
   "cell_type": "code",
   "execution_count": 4,
   "id": "1590fb73",
   "metadata": {},
   "outputs": [
    {
     "name": "stdout",
     "output_type": "stream",
     "text": [
      "1.5399998236769383\n"
     ]
    }
   ],
   "source": [
    "i, j = 0, 1\n",
    "dist = conf.GetAtomPosition(i).Distance(conf.GetAtomPosition(j))\n",
    "print(dist)"
   ]
  },
  {
   "cell_type": "code",
   "execution_count": null,
   "id": "3b567bc3",
   "metadata": {},
   "outputs": [],
   "source": []
  }
 ],
 "metadata": {
  "kernelspec": {
   "display_name": "LifeScienceData",
   "language": "python",
   "name": "python3"
  },
  "language_info": {
   "codemirror_mode": {
    "name": "ipython",
    "version": 3
   },
   "file_extension": ".py",
   "mimetype": "text/x-python",
   "name": "python",
   "nbconvert_exporter": "python",
   "pygments_lexer": "ipython3",
   "version": "3.13.7"
  }
 },
 "nbformat": 4,
 "nbformat_minor": 5
}
